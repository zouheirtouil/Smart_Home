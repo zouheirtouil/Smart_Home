{
  "nbformat": 4,
  "nbformat_minor": 0,
  "metadata": {
    "accelerator": "GPU",
    "colab": {
      "name": "Projet_UV5_KASSEL_LACROIX_TOUIL.ipynb",
      "provenance": [],
      "collapsed_sections": []
    },
    "kernelspec": {
      "display_name": "Python 3",
      "name": "python3"
    }
  },
  "cells": [
    {
      "cell_type": "markdown",
      "metadata": {
        "id": "aCfqiAHb5Nnh"
      },
      "source": [
        "**Introduction:**\r\n"
      ]
    },
    {
      "cell_type": "markdown",
      "metadata": {
        "id": "5os5noxj5Ylo"
      },
      "source": [
        "Durant ce projet, nous avons testé une nouvelle approche d'identification des tendances comportementales chez les gens âgées, nous nous sommes concentrés sur les données des capteurs thermiques. Nous voulions réaliser une visualisation des données. Pour cela nous avons créés des images pour chaque mesure des capteurs. En mettant bout à bout ces images nous avons réalisé des vidéos. Ensuite, nous avons créé une fonction qui va compter le nombre de passages des personnes dans les vidéos. Afin de visualiser ces résultats nous avons utilisé, pour chaque jour, des histogrammes décrivant le nombre de passage par heure."
      ]
    },
    {
      "cell_type": "markdown",
      "metadata": {
        "id": "8CzYnNSt-_4P"
      },
      "source": [
        "**Encadré par:**\r\n",
        "\r\n",
        "*   FLEURY Anthony\r\n",
        "\r\n",
        "\r\n",
        "**Réalisé par:**\r\n",
        "\r\n",
        "\r\n",
        "*   KASSEL Mohammed Issam\r\n",
        "*   LACROIX Maxime\r\n",
        "*   TOUIL Zouheir\r\n",
        "\r\n",
        "\r\n",
        "\r\n",
        "\r\n",
        "\r\n",
        "\r\n",
        "\r\n",
        "\r\n",
        "\r\n"
      ]
    },
    {
      "cell_type": "markdown",
      "metadata": {
        "id": "Yi2IHZSdznZq"
      },
      "source": [
        "**Remerciements :**\r\n"
      ]
    },
    {
      "cell_type": "markdown",
      "metadata": {
        "id": "JeDfdkbYzwMz"
      },
      "source": [
        "Nous profitons de ce Colab pour exprimer nos vifs remerciements à M. Anthony FLEURY pour le grand intérêt qui porte à ses élèves\r\n",
        ", pour nous avoir présenter cette opportunité de\r\n",
        "travailler sur ce projet et d’appliquer en pratique ce que nous\r\n",
        "avons appris. Grâce à ce projet nous avons pu élargir nos\r\n",
        "connaissances dans le domaine de l'analyse de données et de travailler sur un problème de porté réelle.,Malgré les difficultés\r\n",
        "rencontrées, ce projet reste pour nous l’un des\r\n",
        "meilleurs projets académiques qu’on a eu\r\n",
        "l’honneur de mener. En effet, ce dernier nous a\r\n",
        "permis de travailler en groupe, de collaborer\r\n",
        "ensemble et  de développer nos connaissances techniques et\r\n",
        "théoriques.\r\n"
      ]
    },
    {
      "cell_type": "markdown",
      "metadata": {
        "id": "B2a3PPxY5vyo"
      },
      "source": [
        "**Connexion au google drive**"
      ]
    },
    {
      "cell_type": "code",
      "metadata": {
        "colab": {
          "base_uri": "https://localhost:8080/"
        },
        "id": "4-lbtPvFj3lh",
        "outputId": "33235557-9b2b-4b12-ad53-2fab69188e2c"
      },
      "source": [
        "from google.colab import drive\n",
        "drive.mount('/content/drive', force_remount=False)"
      ],
      "execution_count": null,
      "outputs": [
        {
          "output_type": "stream",
          "text": [
            "Drive already mounted at /content/drive; to attempt to forcibly remount, call drive.mount(\"/content/drive\", force_remount=True).\n"
          ],
          "name": "stdout"
        }
      ]
    },
    {
      "cell_type": "markdown",
      "metadata": {
        "id": "poBlkWkz53qM"
      },
      "source": [
        "**Les bibliothèques Utilisées**"
      ]
    },
    {
      "cell_type": "code",
      "metadata": {
        "id": "6n5MWmjLC4w9"
      },
      "source": [
        "import pandas as pd \n",
        "import numpy as np\n",
        "import matplotlib.pyplot as plt\n",
        "from PIL import Image, ImageDraw, ImageFont\n",
        "import cv2\n",
        "import os\n",
        "from os.path import isfile, join\n",
        "import seaborn as sns\n",
        "from google.colab.patches import cv2_imshow\n",
        "import datetime\n",
        "import time\n",
        "import datetime\n",
        "import glob"
      ],
      "execution_count": null,
      "outputs": []
    },
    {
      "cell_type": "markdown",
      "metadata": {
        "id": "FTq4OsZhBx68"
      },
      "source": [
        "**Regrouper tous les fichiers \".txt\" dans un seul fichier \".csv\"**"
      ]
    },
    {
      "cell_type": "code",
      "metadata": {
        "id": "q-Mq38vc1hXJ"
      },
      "source": [
        "#La fonction glob retourne les chemins de tous les fichiers qui se termines avec   .txt\r\n",
        "all_files = glob.glob(path + \"/*.txt\")\r\n",
        "#La boucle sera sur tous les fichiers dans all_files  \r\n",
        "\r\n",
        "#Transformer tous les fichiers .txt au fichiers .csv\r\n",
        "\r\n",
        "for f in all_files:\r\n",
        "    dataframe1 = pd.read_csv(f,delimiter = ' ')\r\n",
        "    dataframe1.to_csv(f +'.csv',  index = None)\r\n",
        "\r\n",
        "#Fusionner des fichiers csv pour avoir un seul fichier \r\n",
        "df_from_each_file = (pd.read_csv(f) for f in all_files)\r\n",
        "df   = pd.concat(df_from_each_file, ignore_index=True)\r\n",
        "\r\n",
        "#Exportation du fichier csv\r\n",
        "\r\n",
        "df.to_csv('Mac1_DATA_P1',index = None)\r\n"
      ],
      "execution_count": null,
      "outputs": []
    },
    {
      "cell_type": "markdown",
      "metadata": {
        "id": "OyvmBGq54MSt"
      },
      "source": [
        "**Regrouper les fichiers selon les jours:**"
      ]
    },
    {
      "cell_type": "code",
      "metadata": {
        "id": "9FXjGklt4MAs"
      },
      "source": [
        "#1ere Etape : Ouvrire le fichier CSV \r\n",
        "df = pd.read_csv('Mac1_DATA_P1.csv',header = None)\r\n",
        "\r\n",
        "#2eme Etape : Avoir la colone de date\r\n",
        "rows = df[0].unique()\r\n",
        "\r\n",
        " #3eme Etape : Exporter des fichiers CSV selon les jours\r\n",
        "\r\n",
        "for row in rows:\r\n",
        "    day =  df[df[0] == row]\r\n",
        "    day.to_csv('jour-' + row +'.csv',  index = None)\r\n",
        "    \r\n"
      ],
      "execution_count": null,
      "outputs": []
    },
    {
      "cell_type": "markdown",
      "metadata": {
        "id": "n2fzDqnoKieI"
      },
      "source": [
        "**Regrouper les fichiers par quatre heures:**"
      ]
    },
    {
      "cell_type": "code",
      "metadata": {
        "id": "qdmwHql827Fs"
      },
      "source": [
        "path = '/Users/maximelacroix/Desktop/DataOtherMonth/3669959/'\n",
        "\n",
        "all_files = glob.glob(path +'/*.csv') #liste les fichiers de données de chaque jours \n",
        "\n",
        "def select_3H(heure):  \n",
        "    L = []\n",
        "    for h in range(3):\n",
        "        for m in range(60):\n",
        "            for s in range(60):\n",
        "                H=str(h+heure)\n",
        "                M=str(m)\n",
        "                S=str(s)\n",
        "                L.append(H +':'+ M +':'+ S)\n",
        "    return df[df[1].isin(L)]\n",
        "\n",
        "# on crée ensuite les fichiers csv en utilisant la fonction et to_csv\n",
        "for f in all_files: \n",
        "    f.replace('.csv','') #essai infructueux afin de changer le nom jour_XX.csv_0-3H.csv en jour_XX_0-3H.csv \n",
        "    select_3H(0).to_csv(f + '_0-3H.csv', index = None)\n",
        "    select_3H(4).to_csv(f + '_4-7H.csv', index = None)\n",
        "    select_3H(8).to_csv(f + '_8-11H.csv', index = None)\n",
        "    select_3H(12).to_csv(f + '_12-15H.csv', index = None)\n",
        "    select_3H(16).to_csv(f + '_16-19H.csv', index = None)\n",
        "    select_3H(20).to_csv(f + '_20-23H.csv', index = None)\n",
        "#les fichiers seront alors dans le même dossier que les csv des jours\n"
      ],
      "execution_count": null,
      "outputs": []
    },
    {
      "cell_type": "markdown",
      "metadata": {
        "id": "sq8Vhkpn0rMJ"
      },
      "source": [
        "**Traitement des données:**\r\n"
      ]
    },
    {
      "cell_type": "code",
      "metadata": {
        "id": "ZUcp4ccW1TW8"
      },
      "source": [
        "col = ['date', 'heure']\r\n",
        "#col = ['x','date', 'heure']   Pour les données mac2\r\n",
        "for k in range(1,33):\r\n",
        "    col.append(str(k))\r\n",
        "col+= ['*', 'NaN','hour']\r\n"
      ],
      "execution_count": null,
      "outputs": []
    },
    {
      "cell_type": "markdown",
      "metadata": {
        "id": "m015MYnKC3mS"
      },
      "source": [
        "**Lecture des données du premier jour entre 0 et 3h avec mac1. Le but est de créer une vidéo à partir des images générées avec des nuances de gris, associées aux températures enregistrées, afin de déterminer un seuil optimal qui permet la détection du passage d'un patient devant le capteur**"
      ]
    },
    {
      "cell_type": "code",
      "metadata": {
        "colab": {
          "base_uri": "https://localhost:8080/"
        },
        "id": "fCQm1tvR5hKs",
        "outputId": "02f70c52-258d-43e9-b08f-6c776bb0f26a"
      },
      "source": [
        "path= \"/content/drive/MyDrive/fewdays_mik_zt-master-DataOtherMonth-3669959/test/mac1/jour1/hour0.csv\"\n",
        "df = pd.read_csv(path)\n",
        "df.columns= col\n",
        "df"
      ],
      "execution_count": null,
      "outputs": [
        {
          "output_type": "stream",
          "text": [
            "             date     heure     1     2     3  ...    31    32  *  NaN  hour\n",
            "0      2019-06-05  00:00:00  12.6  13.1  13.4  ...  13.1  12.9  *  0.0     0\n",
            "1      2019-06-05  00:00:00  12.6  13.1  13.4  ...  13.1  12.9  *  0.0     0\n",
            "2      2019-06-05  00:00:00  12.5  13.0  13.4  ...  13.0  12.9  *  0.0     0\n",
            "3      2019-06-05  00:00:00  12.5  13.0  13.4  ...  13.1  13.0  *  0.0     0\n",
            "4      2019-06-05  00:00:00  12.7  13.2  13.5  ...  13.2  13.1  *  0.0     0\n",
            "...           ...       ...   ...   ...   ...  ...   ...   ... ..  ...   ...\n",
            "92003  2019-06-05  04:59:59  11.8  12.3  12.5  ...  12.8  12.7  *  0.0     4\n",
            "92004  2019-06-05  04:59:59  11.8  12.3  12.5  ...  12.9  12.7  *  0.0     4\n",
            "92005  2019-06-05  04:59:59  11.8  12.3  12.6  ...  12.9  12.8  *  0.0     4\n",
            "92006  2019-06-05  04:59:59  11.8  12.3  12.6  ...  12.8  12.7  *  0.0     4\n",
            "92007  2019-06-05  04:59:59  11.8  12.2  12.5  ...  12.8  12.6  *  0.0     4\n",
            "\n",
            "[92008 rows x 37 columns]\n"
          ],
          "name": "stdout"
        }
      ]
    },
    {
      "cell_type": "code",
      "metadata": {
        "id": "KvY1tonr64_z"
      },
      "source": [
        "#fonction qui calcule les nuances de gris à partir des températures \n",
        "def f(x):\n",
        "    return ((2550*x/97) - (27285/97))"
      ],
      "execution_count": null,
      "outputs": []
    },
    {
      "cell_type": "code",
      "metadata": {
        "id": "vIuEUTV76mGY"
      },
      "source": [
        "#création chaque image avec (date/ heure) pour 1 df(4h)\n",
        "\n",
        "array = np.zeros([24, 320], dtype=np.uint8)\n",
        "l=len(df)\n",
        "for j in range(l):\n",
        "\n",
        "  x = []\n",
        "  y = []\n",
        "  for k in range(1,33):\n",
        "    x.append(pd.to_numeric(df[str(k)][j]))\n",
        "  for i in range(len(x)):    \n",
        "    y.append(int(f(x[i])))\n",
        "  for k in range(32):\n",
        "    array[:,k*10:(k+1)*10] = y[k] \n",
        "  x = []\n",
        "  y = []\n",
        "  fnt = ImageFont.load_default()\n",
        "  img = Image.fromarray(array)\n",
        "  d = ImageDraw.Draw(img)\n",
        "  d.text((1,0), text= df['date'][j] + ' ' + df['heure'][j], font=fnt, fill=(255))\n",
        "  print(img)\n",
        "  img.save('/content/drive/MyDrive/fewdays_mik_zt-master-DataOtherMonth-3669959/test/mac1/images/testrgb_' + str(j) + '.png')"
      ],
      "execution_count": null,
      "outputs": []
    },
    {
      "cell_type": "markdown",
      "metadata": {
        "id": "XC4ANT31g9ag"
      },
      "source": [
        "Exemple des images créées: https://drive.google.com/drive/folders/1if-jxrwy4Y2rFvAIgmMf7Swk59J5tqMW?usp=sharing"
      ]
    },
    {
      "cell_type": "code",
      "metadata": {
        "id": "0XWRhT-j6az8"
      },
      "source": [
        "#fonction pour créer la vidéo à partir des images \n",
        "\n",
        "def convert_to_video(pathIn, pathOut, fps):\n",
        "    frame_array=[]\n",
        "    files=[f for f in os.listdir(pathIn) if isfile(join(pathIn, f))]\n",
        "    for i in range(len(files)):\n",
        "        filename=pathIn+files[i]\n",
        "        img=cv2.imread(filename)\n",
        "        print(img.shape)\n",
        "        height = img.shape[0]\n",
        "        width = img.shape[1]\n",
        "        size=(width , height)\n",
        "        \n",
        "        #for k in range(time):\n",
        "        frame_array.append(img)\n",
        "    out = cv2.VideoWriter(pathOut, cv2.VideoWriter_fourcc(*'mp4v'), fps, size)\n",
        "    for i in range(len(frame_array)):\n",
        "        out.write(frame_array[i])\n",
        "    out.release()\n",
        "    \n",
        "\n",
        "directory= '/content/drive/MyDrive/fewdays_mik_zt-master-DataOtherMonth-3669959/test/mac1'\n",
        "pathIn=directory + '/images/'\n",
        "pathOut=directory + '/videos/video_test.avi'\n",
        "fps=10\n",
        "time= 0.1\n",
        "\n",
        "convert_to_video(pathIn, pathOut, fps)"
      ],
      "execution_count": null,
      "outputs": []
    },
    {
      "cell_type": "markdown",
      "metadata": {
        "id": "n31b3-tbipqd"
      },
      "source": [
        "Exemple d'une vidéo créée: https://drive.google.com/file/d/1Wc_rOay4D5d6BJ9nJ7QaTN7ImGU1krur/view?usp=sharing"
      ]
    },
    {
      "cell_type": "code",
      "metadata": {
        "id": "lFH4bX-Cidfq"
      },
      "source": [
        "#fonction pour transformer les dates de \"str\" en \"datetime\"\r\n",
        "def time_diff(start, end):\r\n",
        "  start=datetime.datetime.strptime(start,'%H:%M:%S')\r\n",
        "  end=datetime.datetime.strptime(end,'%H:%M:%S')\r\n",
        "  return start,end"
      ],
      "execution_count": null,
      "outputs": []
    },
    {
      "cell_type": "code",
      "metadata": {
        "id": "QyobX9z4CIaF"
      },
      "source": [
        "#traitement des données mac1 pour un seul patient "
      ],
      "execution_count": null,
      "outputs": []
    },
    {
      "cell_type": "markdown",
      "metadata": {
        "id": "TYom3MK2LeOn"
      },
      "source": [
        "**Fonction d'optimisation qui permet de conserver les lignes ayant une température maximale supérieure à 17 pour mac1**"
      ]
    },
    {
      "cell_type": "code",
      "metadata": {
        "id": "BEwEvchRsA1d"
      },
      "source": [
        "def optim(dataf):\n",
        "  min=17\n",
        "  l =len(dataf)\n",
        "  df_f1=pd.DataFrame(columns=col)\n",
        "  for j in range(l):\n",
        "    x =[]\n",
        "    for k in range(2,34):\n",
        "        x.append(dataf.iloc[j][k])\n",
        "    max1=max(x)\n",
        "    if max1>min :\n",
        "      df_f1=df_f1.append(dataf.iloc[j])\n",
        "  return df_f1\n",
        "\n"
      ],
      "execution_count": null,
      "outputs": []
    },
    {
      "cell_type": "markdown",
      "metadata": {
        "id": "pnJXlhw4MCNt"
      },
      "source": [
        "**Fonction qui calcule la différence de temps entre 2 enregistrements succéssifs**"
      ]
    },
    {
      "cell_type": "code",
      "metadata": {
        "id": "TUN2KRpibXgd"
      },
      "source": [
        "def time_diff(start, end):\n",
        "  start=datetime.datetime.strptime(start,'%H:%M:%S')\n",
        "  end=datetime.datetime.strptime(end,'%H:%M:%S')\n",
        "  return end-start"
      ],
      "execution_count": null,
      "outputs": []
    },
    {
      "cell_type": "markdown",
      "metadata": {
        "id": "Hybvi9VfMZkZ"
      },
      "source": [
        "**Fonction qui calcule le nombre de passage du patient, en se basant sur un temps minimal statique (5 secondes) pour mac1**\n",
        "\n"
      ]
    },
    {
      "cell_type": "code",
      "metadata": {
        "id": "6OYb7SajhSM7"
      },
      "source": [
        "tmin =5\n",
        "def nombre_passage(df1):\n",
        "  nt=0\n",
        "  n=len(df1)\n",
        "  for i in range(n-1):\n",
        "    s=time_diff(df1.iloc[i][2],df1.iloc[i+1][2])\n",
        "    if(s.seconds>tmin):\n",
        "      nt+=1\n",
        "  return nt\n",
        "\n"
      ],
      "execution_count": null,
      "outputs": []
    },
    {
      "cell_type": "code",
      "metadata": {
        "id": "rNMDYpaPJq9K"
      },
      "source": [
        "#création d'un dataframe pour ajouter le nombre de passage associé à chaque intervalle\n",
        "h=['0-3','4-7','8-11','12-15','16-19','20-23']\n",
        "df_final=pd.DataFrame({'hours':h})\n",
        "df_final"
      ],
      "execution_count": null,
      "outputs": []
    },
    {
      "cell_type": "code",
      "metadata": {
        "id": "wM90bMYSfsRK"
      },
      "source": [
        "directory= '/content/drive/MyDrive/fewdays_mik_zt-master-DataOtherMonth-3669959/test/mac1'"
      ],
      "execution_count": null,
      "outputs": []
    },
    {
      "cell_type": "markdown",
      "metadata": {
        "id": "xIpVB4zYP7fB"
      },
      "source": [
        "**Calcul du nombre de passage pour tous les intervalles du temps durant 1 jour**\n",
        "\n",
        "\n"
      ]
    },
    {
      "cell_type": "code",
      "metadata": {
        "id": "l49i7zwcGUR1"
      },
      "source": [
        "files=[f for f in os.listdir(pathIn) if isfile(join(pathIn, f))]\n",
        "files.sort()\n",
        "s=[]\n",
        "for i in range(len(files)):\n",
        "  df= pd.read_csv(directory +'/jour3/hour'+str(i)+'.csv')\n",
        "  df= optim(df)\n",
        "  np=nombre_passage(df)\n",
        "  s.append(np)\n",
        "df_final['jour3']=s\n",
        "print(df_final)  \n"
      ],
      "execution_count": null,
      "outputs": []
    },
    {
      "cell_type": "markdown",
      "metadata": {
        "id": "w_BApVS6Qh2J"
      },
      "source": [
        "**On sauvegarde les données mac1 obtenues pour tous les jours dans**\n",
        "**un fichier csv**\n",
        "\n"
      ]
    },
    {
      "cell_type": "code",
      "metadata": {
        "id": "89kQQZwa8XMA"
      },
      "source": [
        "df_final.to_csv('/content/drive/MyDrive/fewdays_mik_zt-master-DataOtherMonth-3669959/test/mac1/resultat.csv')"
      ],
      "execution_count": null,
      "outputs": []
    },
    {
      "cell_type": "markdown",
      "metadata": {
        "id": "hz9hvr5BRRP6"
      },
      "source": [
        "**Visualisation des résultats en histogrammes**"
      ]
    },
    {
      "cell_type": "code",
      "metadata": {
        "id": "zrXt4632HhrY"
      },
      "source": [
        "fig, ax = plt.subplots(1, 6, figsize=(30, 3), sharey=True)\n",
        "ax[0].bar(df_final['hours'], df_final['jour1'], label=\"jour1\")\n",
        "ax[0].set_title('03/06/2019_Lundi')\n",
        "ax[0].set(xlabel='heures', ylabel='nombre de passage')\n",
        "ax[1].bar(df_final['hours'], df_final['jour2'], label=\"jour2\")\n",
        "ax[1].set_title('04/06/2019_Mardi')\n",
        "ax[1].set(xlabel='heures', ylabel='nombre de passage')\n",
        "\n",
        "ax[2].bar(df_final['hours'], df_final['jour3'], label=\"jour3\")\n",
        "ax[2].set_title('05/06/2019_Mercredi')\n",
        "ax[2].set(xlabel='heures', ylabel='nombre de passage')\n",
        "\n",
        "ax[3].bar(df_final['hours'], df_final['jour4'], label=\"jour4\")\n",
        "ax[3].set_title('06/06/2019_Jeudi')\n",
        "ax[3].set(xlabel='heures', ylabel='nombre de passage')\n",
        "\n",
        "ax[4].bar(df_final['hours'], df_final['jour5'], label=\"jour5\")\n",
        "ax[4].set_title('07/06/2019_Vendredi')\n",
        "ax[4].set(xlabel='heures', ylabel='nombre de passage')\n",
        "\n",
        "ax[5].bar(df_final['hours'], df_final['jour6'], label=\"jour6\")\n",
        "ax[5].set_title('08/06/2019_Samedi')\n",
        "ax[5].set(xlabel='heures', ylabel='nombre de passage')\n",
        "\n",
        "fig.suptitle('Nombre de Passage par jour')\n",
        "plt.show()"
      ],
      "execution_count": null,
      "outputs": []
    },
    {
      "cell_type": "markdown",
      "metadata": {
        "id": "61boKJA1SOHd"
      },
      "source": [
        "![mac1.png](data:image/png;base64,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)"
      ]
    },
    {
      "cell_type": "code",
      "metadata": {
        "id": "TOx875ApWeQk"
      },
      "source": [
        "#traitement des données mac2 pour un seul patient "
      ],
      "execution_count": null,
      "outputs": []
    },
    {
      "cell_type": "markdown",
      "metadata": {
        "id": "hd3hmnrmSfcw"
      },
      "source": [
        "**On ajoute une colonne pour les données mac2**"
      ]
    },
    {
      "cell_type": "code",
      "metadata": {
        "id": "hfJJd_X6WkLj"
      },
      "source": [
        "col = ['x','date', 'heure']\n",
        "for k in range(1,33):\n",
        "    col.append(str(k))\n",
        "col+= ['*', 'NaN','hour']\n"
      ],
      "execution_count": null,
      "outputs": []
    },
    {
      "cell_type": "code",
      "metadata": {
        "id": "bbwYHO96Xjuu"
      },
      "source": [
        "directory= '/content/drive/MyDrive/fewdays_mik_zt-master-DataOtherMonth-3669959/test/mac2'"
      ],
      "execution_count": null,
      "outputs": []
    },
    {
      "cell_type": "code",
      "metadata": {
        "id": "V9qldDR5YMY3"
      },
      "source": [
        "df= pd.read_csv(directory +'/jour1/hour'+str(2)+'.csv')\n"
      ],
      "execution_count": null,
      "outputs": []
    },
    {
      "cell_type": "markdown",
      "metadata": {
        "id": "KCdUEf_jSqM0"
      },
      "source": [
        "**Fonction d'optimisation qui permet de conserver les lignes ayant une température maximale supérieure à 17 pour mac2**"
      ]
    },
    {
      "cell_type": "code",
      "metadata": {
        "id": "sN4Dj1CMWm8B"
      },
      "source": [
        "def optim2(dataf):\n",
        "  min=17\n",
        "  l =len(dataf)\n",
        "  df_f1=pd.DataFrame(columns=col)\n",
        "  for j in range(l):\n",
        "    x =[]\n",
        "    for k in range(3,35):\n",
        "        x.append(dataf.iloc[j][k])\n",
        "    max1=max(x)\n",
        "    if max1>min :\n",
        "      df_f1=df_f1.append(dataf.iloc[j])\n",
        "  return df_f1"
      ],
      "execution_count": null,
      "outputs": []
    },
    {
      "cell_type": "markdown",
      "metadata": {
        "id": "8V36DR5MS3n8"
      },
      "source": [
        "**Fonction qui calcule le nombre de passage du patient, en se basant sur un temps minimal statique(5 secondes) pour mac2**"
      ]
    },
    {
      "cell_type": "code",
      "metadata": {
        "id": "NqBg79HCXh8i"
      },
      "source": [
        "tmin =5\n",
        "def nombre_passage2(df1):\n",
        "  nt=0\n",
        "  n=len(df1)\n",
        "  for i in range(n-1):\n",
        "    s=time_diff(df1.iloc[i][4],df1.iloc[i+1][4])\n",
        "    if(s.seconds>tmin):\n",
        "      nt+=1\n",
        "  return nt\n",
        "#np=nombre_passage(df)\n",
        "#np"
      ],
      "execution_count": null,
      "outputs": []
    },
    {
      "cell_type": "code",
      "metadata": {
        "colab": {
          "base_uri": "https://localhost:8080/",
          "height": 235
        },
        "id": "ijUl6barZMqv",
        "outputId": "d612d0df-b3d4-4d22-8e34-0b5195db8032"
      },
      "source": [
        "#création d'un dataframe pour ajouter le nombre de passage associé à chaque intervalle\n",
        "h=['0-3','4-7','8-11','12-15','16-19','20-23']\n",
        "df_final=pd.DataFrame({'hours':h})\n",
        "df_final"
      ],
      "execution_count": null,
      "outputs": [
        {
          "output_type": "execute_result",
          "data": {
            "text/html": [
              "<div>\n",
              "<style scoped>\n",
              "    .dataframe tbody tr th:only-of-type {\n",
              "        vertical-align: middle;\n",
              "    }\n",
              "\n",
              "    .dataframe tbody tr th {\n",
              "        vertical-align: top;\n",
              "    }\n",
              "\n",
              "    .dataframe thead th {\n",
              "        text-align: right;\n",
              "    }\n",
              "</style>\n",
              "<table border=\"1\" class=\"dataframe\">\n",
              "  <thead>\n",
              "    <tr style=\"text-align: right;\">\n",
              "      <th></th>\n",
              "      <th>hours</th>\n",
              "    </tr>\n",
              "  </thead>\n",
              "  <tbody>\n",
              "    <tr>\n",
              "      <th>0</th>\n",
              "      <td>0-4</td>\n",
              "    </tr>\n",
              "    <tr>\n",
              "      <th>1</th>\n",
              "      <td>4-8</td>\n",
              "    </tr>\n",
              "    <tr>\n",
              "      <th>2</th>\n",
              "      <td>8-12</td>\n",
              "    </tr>\n",
              "    <tr>\n",
              "      <th>3</th>\n",
              "      <td>12-16</td>\n",
              "    </tr>\n",
              "    <tr>\n",
              "      <th>4</th>\n",
              "      <td>16-20</td>\n",
              "    </tr>\n",
              "    <tr>\n",
              "      <th>5</th>\n",
              "      <td>20-24</td>\n",
              "    </tr>\n",
              "  </tbody>\n",
              "</table>\n",
              "</div>"
            ],
            "text/plain": [
              "   hours\n",
              "0    0-4\n",
              "1    4-8\n",
              "2   8-12\n",
              "3  12-16\n",
              "4  16-20\n",
              "5  20-24"
            ]
          },
          "metadata": {
            "tags": []
          },
          "execution_count": 9
        }
      ]
    },
    {
      "cell_type": "markdown",
      "metadata": {
        "id": "2Oua3hbLUoNx"
      },
      "source": [
        "**Calcul du nombre de passage pour tous les intervalles du temps durant 1 jour**"
      ]
    },
    {
      "cell_type": "code",
      "metadata": {
        "id": "aHvJ15QLUKS-"
      },
      "source": [
        "files=[f for f in os.listdir(pathIn) if isfile(join(pathIn, f))]\n",
        "files.sort()\n",
        "s=[]\n",
        "for i in range(len(files)):\n",
        "  df= pd.read_csv(directory +'/jour3/hour'+str(i)+'.csv')\n",
        "  df= optim2(df)\n",
        "  np=nombre_passage2(df)\n",
        "  s.append(np)\n",
        "df_final['jour3']=s\n",
        "print(df_final)"
      ],
      "execution_count": null,
      "outputs": []
    },
    {
      "cell_type": "markdown",
      "metadata": {
        "id": "uAbbB6A8T1mL"
      },
      "source": [
        "**On sauvegarde les données mac2 obtenues pour tous les jours dans**\n",
        "**un fichier csv**"
      ]
    },
    {
      "cell_type": "code",
      "metadata": {
        "id": "P0V9kbe16DRz"
      },
      "source": [
        "df_final.to_csv('/content/drive/MyDrive/fewdays_mik_zt-master-DataOtherMonth-3669959/test/mac2/resultat2.csv')"
      ],
      "execution_count": null,
      "outputs": []
    },
    {
      "cell_type": "markdown",
      "metadata": {
        "id": "w05mOhAxTsQT"
      },
      "source": [
        "**Visualisation des résultats en histogrammes**"
      ]
    },
    {
      "cell_type": "code",
      "metadata": {
        "id": "b0R9GKBl7cU1"
      },
      "source": [
        "fig, ax = plt.subplots(1, 14, figsize=(60, 3), sharey=True)\n",
        "ax[0].bar(df_final['hours'], df_final['jour1'], label=\"jour1\")\n",
        "ax[0].set_title('27/05/2019_Lundi')\n",
        "ax[0].set(xlabel='heures', ylabel='nombre de passage')\n",
        "ax[1].bar(df_final['hours'], df_final['jour2'], label=\"jour2\")\n",
        "ax[1].set_title('29/05/2019_Mercredi')\n",
        "ax[1].set(xlabel='heures', ylabel='nombre de passage')\n",
        "\n",
        "ax[2].bar(df_final['hours'], df_final['jour3'], label=\"jour3\")\n",
        "ax[2].set_title('30/05/2019_Jeudi')\n",
        "ax[2].set(xlabel='heures', ylabel='nombre de passage')\n",
        "\n",
        "ax[3].bar(df_final['hours'], df_final['jour4'], label=\"jour4\")\n",
        "ax[3].set_title('31/05/2019_Vendredi')\n",
        "ax[3].set(xlabel='heures', ylabel='nombre de passage')\n",
        "\n",
        "ax[4].bar(df_final['hours'], df_final['jour5'], label=\"jour5\")\n",
        "ax[4].set_title('01/06/2019_Samedi')\n",
        "ax[4].set(xlabel='heures', ylabel='nombre de passage')\n",
        "\n",
        "ax[5].bar(df_final['hours'], df_final['jour6'], label=\"jour6\")\n",
        "ax[5].set_title('02/06/2019_Dimanche')\n",
        "ax[5].set(xlabel='heures', ylabel='nombre de passage')\n",
        "\n",
        "ax[6].bar(df_final['hours'], df_final['jour7'], label=\"jour1\")\n",
        "ax[6].set_title('03/06/2019_Lundi')\n",
        "ax[6].set(xlabel='heures', ylabel='nombre de passage')\n",
        "ax[7].bar(df_final['hours'], df_final['jour8'], label=\"jour2\")\n",
        "ax[7].set_title('04/06/2019_Mardi')\n",
        "ax[7].set(xlabel='heures', ylabel='nombre de passage')\n",
        "\n",
        "ax[8].bar(df_final['hours'], df_final['jour9'], label=\"jour3\")\n",
        "ax[8].set_title('05/06/2019_Mercredi')\n",
        "ax[8].set(xlabel='heures', ylabel='nombre de passage')\n",
        "\n",
        "ax[9].bar(df_final['hours'], df_final['jour10'], label=\"jour4\")\n",
        "ax[9].set_title('06/06/2019_Jeudi')\n",
        "ax[9].set(xlabel='heures', ylabel='nombre de passage')\n",
        "\n",
        "ax[10].bar(df_final['hours'], df_final['jour11'], label=\"jour5\")\n",
        "ax[10].set_title('07/06/2019_Vendredi')\n",
        "ax[10].set(xlabel='heures', ylabel='nombre de passage')\n",
        "\n",
        "ax[11].bar(df_final['hours'], df_final['jour12'], label=\"jour6\")\n",
        "ax[11].set_title('08/06/2019_Samedi')\n",
        "ax[11].set(xlabel='heures', ylabel='nombre de passage')\n",
        "\n",
        "ax[12].bar(df_final['hours'], df_final['jour13'], label=\"jour5\")\n",
        "ax[12].set_title('10/06/2019_Lundi')\n",
        "ax[12].set(xlabel='heures', ylabel='nombre de passage')\n",
        "\n",
        "ax[13].bar(df_final['hours'], df_final['jour14'], label=\"jour6\")\n",
        "ax[13].set_title('11/06/2019_Mardi')\n",
        "ax[13].set(xlabel='heures', ylabel='nombre de passage')\n",
        "fig.suptitle('Nombre de Passage par jour')"
      ],
      "execution_count": null,
      "outputs": []
    },
    {
      "cell_type": "markdown",
      "metadata": {
        "id": "o0YHjU5uTbvv"
      },
      "source": [
        "![mac2.png](data:image/png;base64,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)"
      ]
    },
    {
      "cell_type": "markdown",
      "metadata": {
        "id": "ehvg91etUO-p"
      },
      "source": [
        "**Interprétaion des résultats :**"
      ]
    },
    {
      "cell_type": "markdown",
      "metadata": {
        "id": "Fa-Y4phpUfIH"
      },
      "source": [
        "*   Au niveau du premier capteur on remarque qu’il a enregistré les températures pendant 6 jours contrairement au deuxième capteur qui était opérationnel pendant 14 jours.\r\n",
        "*   On remarque qu'il y a une différence dans le nombre de passages calculés par les 2 capteurs dans les intervalles de temps du 03/06 jusqu'au 08/06, ce qui pourrait être expliqué par la présence des 2 capteurs dans différentes positions.\r\n",
        "*   Absence des données, et remplacement des intervalles non enregistrés par 0 comme valeur par défaut, ce qui vient influencer les résultats obtenus.\r\n",
        "*   Pour le capteur 1, souvent, le patient enregistre un nombre de passage élevé par jour, dans l'intervalle du temps entre 20 et minuit.\r\n",
        "*   Pour le capteur 2, on obtient des jours avec un nombre de passage proche de 0, on remarque aussi une absence de mouvement pendant la nuit contrairement au capteur 1, ceci peut indiquer une anomalie dans le comportement du patient.\r\n",
        "\r\n"
      ]
    },
    {
      "cell_type": "markdown",
      "metadata": {
        "id": "c8VZF_vxsXzp"
      },
      "source": [
        "**Exploitation des résultats:**"
      ]
    },
    {
      "cell_type": "markdown",
      "metadata": {
        "id": "SyypnH0xsdAV"
      },
      "source": [
        "*   A la fin de notre étude, nous sommes arrivés à calculer le nombre de passage du patient devant les deux capteurs. \r\n",
        "*   Avec ces résultats, nous pouvons calculer la durée moyenne de passage d'un individu devant le capteur, analyser le nombre de passage par jours, et créer des fonctions qui permettent d'identifier des anomalies de comportement du patient.\r\n",
        "\r\n",
        "*   Pour la détection du passage du patient, nous avons défini un seuil statique. Ce qui en a résulté est un nombre de passage très élevé durant la journée. Ceci correspond aux changements de la température du milieu extérieur.\r\n",
        "*   Pour résoudre ce problème, nous pouvons établir un seuil dynamique à partir duquel on peut considérer que l'on détecte une personne devant le capteur.\r\n",
        "\r\n",
        "\r\n"
      ]
    }
  ]
}